{
  "nbformat": 4,
  "nbformat_minor": 0,
  "metadata": {
    "colab": {
      "provenance": [],
      "mount_file_id": "1xK0MCDfGV-E4aZHhRte37oY65LUwuLsA",
      "authorship_tag": "ABX9TyMXNdUttGZykRqhtQ94Z+1S",
      "include_colab_link": true
    },
    "kernelspec": {
      "name": "python3",
      "display_name": "Python 3"
    },
    "language_info": {
      "name": "python"
    }
  },
  "cells": [
    {
      "cell_type": "markdown",
      "metadata": {
        "id": "view-in-github",
        "colab_type": "text"
      },
      "source": [
        "<a href=\"https://colab.research.google.com/github/ThobMvuni/hello-world/blob/main/Untitled2.ipynb\" target=\"_parent\"><img src=\"https://colab.research.google.com/assets/colab-badge.svg\" alt=\"Open In Colab\"/></a>"
      ]
    },
    {
      "cell_type": "code",
      "source": [],
      "metadata": {
        "id": "4X6-TlFbYUgl"
      },
      "execution_count": null,
      "outputs": []
    },
    {
      "cell_type": "code",
      "source": [],
      "metadata": {
        "id": "NnkhihGBTcWl"
      },
      "execution_count": null,
      "outputs": []
    },
    {
      "cell_type": "code",
      "source": [],
      "metadata": {
        "id": "b_eE7hu3IzjP"
      },
      "execution_count": null,
      "outputs": []
    },
    {
      "cell_type": "code",
      "source": [],
      "metadata": {
        "id": "dygI_wMbIzzS"
      },
      "execution_count": null,
      "outputs": []
    },
    {
      "cell_type": "code",
      "source": [
        "from google.colab import drive\n",
        "drive.mount('/content/drive')\n",
        "\n",
        "import pandas as pd\n",
        "path = \"/content/drive/MyDrive/data.csv\"\n",
        "df = pd.read_csv(path)\n",
        "df.describe\n",
        "\n"
      ],
      "metadata": {
        "id": "4kIAJjXOIysR",
        "colab": {
          "base_uri": "https://localhost:8080/"
        },
        "outputId": "764e2a6d-e749-417b-9f2f-32a26c24f02a"
      },
      "execution_count": 2,
      "outputs": [
        {
          "output_type": "stream",
          "name": "stdout",
          "text": [
            "Drive already mounted at /content/drive; to attempt to forcibly remount, call drive.mount(\"/content/drive\", force_remount=True).\n"
          ]
        },
        {
          "output_type": "execute_result",
          "data": {
            "text/plain": [
              "<bound method NDFrame.describe of                                 Country                 Region  Population  \\\n",
              "0                           Afghanistan  Eastern Mediterranean       29825   \n",
              "1                               Albania                 Europe        3162   \n",
              "2                               Algeria                 Africa       38482   \n",
              "3                               Andorra                 Europe          78   \n",
              "4                                Angola                 Africa       20821   \n",
              "..                                  ...                    ...         ...   \n",
              "189  Venezuela (Bolivarian Republic of)               Americas       29955   \n",
              "190                            Viet Nam        Western Pacific       90796   \n",
              "191                               Yemen  Eastern Mediterranean       23852   \n",
              "192                              Zambia                 Africa       14075   \n",
              "193                            Zimbabwe                 Africa       13724   \n",
              "\n",
              "     Under15  Over60  FertilityRate  LifeExpectancy  ChildMortality  \\\n",
              "0      47.42    3.82           5.40              60            98.5   \n",
              "1      21.33   14.93           1.75              74            16.7   \n",
              "2      27.42    7.17           2.83              73            20.0   \n",
              "3      15.20   22.86            NaN              82             3.2   \n",
              "4      47.58    3.84           6.10              51           163.5   \n",
              "..       ...     ...            ...             ...             ...   \n",
              "189    28.84    9.17           2.44              75            15.3   \n",
              "190    22.87    9.32           1.79              75            23.0   \n",
              "191    40.72    4.54           4.35              64            60.0   \n",
              "192    46.73    3.95           5.77              55            88.5   \n",
              "193    40.24    5.68           3.64              54            89.8   \n",
              "\n",
              "     CellularSubscribers  LiteracyRate      GNI  PrimarySchoolEnrollmentMale  \\\n",
              "0                  54.26           NaN   1140.0                          NaN   \n",
              "1                  96.39           NaN   8820.0                          NaN   \n",
              "2                  98.99           NaN   8310.0                         98.2   \n",
              "3                  75.49           NaN      NaN                         78.4   \n",
              "4                  48.38          70.1   5230.0                         93.1   \n",
              "..                   ...           ...      ...                          ...   \n",
              "189                97.78           NaN  12430.0                         94.7   \n",
              "190               143.39          93.2   3250.0                          NaN   \n",
              "191                47.05          63.9   2170.0                         85.5   \n",
              "192                60.59          71.2   1490.0                         91.4   \n",
              "193                72.13          92.2      NaN                          NaN   \n",
              "\n",
              "     PrimarySchoolEnrollmentFemale  \n",
              "0                              NaN  \n",
              "1                              NaN  \n",
              "2                             96.4  \n",
              "3                             79.4  \n",
              "4                             78.2  \n",
              "..                             ...  \n",
              "189                           95.1  \n",
              "190                            NaN  \n",
              "191                           70.5  \n",
              "192                           93.9  \n",
              "193                            NaN  \n",
              "\n",
              "[194 rows x 13 columns]>"
            ]
          },
          "metadata": {},
          "execution_count": 2
        }
      ]
    },
    {
      "cell_type": "code",
      "source": [
        "from google.colab import drive\n",
        "drive.mount('/content/drive')"
      ],
      "metadata": {
        "colab": {
          "base_uri": "https://localhost:8080/"
        },
        "id": "EsaY03xtAnLd",
        "outputId": "345afb9b-3be6-4c52-81a3-2cd2fc59cb89"
      },
      "execution_count": 1,
      "outputs": [
        {
          "output_type": "stream",
          "name": "stdout",
          "text": [
            "Drive already mounted at /content/drive; to attempt to forcibly remount, call drive.mount(\"/content/drive\", force_remount=True).\n"
          ]
        }
      ]
    }
  ]
}