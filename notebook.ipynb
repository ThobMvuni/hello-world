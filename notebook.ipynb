{
  "cells": [
    {
      "cell_type": "markdown",
      "metadata": {
        "id": "view-in-github",
        "colab_type": "text"
      },
      "source": [
        "<a href=\"https://colab.research.google.com/github/ThobMvuni/hello-world/blob/main/notebook.ipynb\" target=\"_parent\"><img src=\"https://colab.research.google.com/assets/colab-badge.svg\" alt=\"Open In Colab\"/></a>"
      ]
    },
    {
      "cell_type": "markdown",
      "id": "novel-british",
      "metadata": {
        "id": "novel-british"
      },
      "source": [
        "# Instructions\n",
        "\n",
        "Answer the questions and perform any additional analysis you think will help you understand what's going on in the data. You will be required to present your work, you can use this notebook or create slides based on your analysis. Whatever you’re comfortable with is fine with us.\n",
        "\n",
        "The section headings below are only a guide and this notebook should be modified as you see fit."
      ]
    },
    {
      "cell_type": "markdown",
      "id": "material-peripheral",
      "metadata": {
        "id": "material-peripheral"
      },
      "source": [
        "# 1. Data processing"
      ]
    },
    {
      "cell_type": "code",
      "execution_count": null,
      "id": "material-silly",
      "metadata": {
        "id": "material-silly"
      },
      "outputs": [],
      "source": []
    },
    {
      "cell_type": "markdown",
      "id": "cheap-navigation",
      "metadata": {
        "id": "cheap-navigation"
      },
      "source": [
        "# 2. Exploratory data analysis"
      ]
    },
    {
      "cell_type": "code",
      "execution_count": null,
      "id": "grateful-blend",
      "metadata": {
        "id": "grateful-blend"
      },
      "outputs": [],
      "source": []
    },
    {
      "cell_type": "markdown",
      "id": "interpreted-hurricane",
      "metadata": {
        "id": "interpreted-hurricane"
      },
      "source": [
        "# 3. Conclusion and insights "
      ]
    },
    {
      "cell_type": "code",
      "execution_count": null,
      "id": "actual-marketplace",
      "metadata": {
        "id": "actual-marketplace"
      },
      "outputs": [],
      "source": []
    }
  ],
  "metadata": {
    "kernelspec": {
      "display_name": "Python 3",
      "language": "python",
      "name": "python3"
    },
    "language_info": {
      "codemirror_mode": {
        "name": "ipython",
        "version": 3
      },
      "file_extension": ".py",
      "mimetype": "text/x-python",
      "name": "python",
      "nbconvert_exporter": "python",
      "pygments_lexer": "ipython3",
      "version": "3.8.5"
    },
    "colab": {
      "provenance": [],
      "include_colab_link": true
    }
  },
  "nbformat": 4,
  "nbformat_minor": 5
}